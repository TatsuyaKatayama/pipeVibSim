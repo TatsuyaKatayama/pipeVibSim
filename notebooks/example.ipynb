{
 "cells": [
  {
   "cell_type": "markdown",
   "metadata": {},
   "source": [
    "# pipeVibSim Example"
   ]
  },
  {
   "cell_type": "markdown",
   "metadata": {},
   "source": [
    "This notebook demonstrates how to use the `pipeVibSim` library to perform a vibration analysis of a 3D pipe."
   ]
  },
  {
   "cell_type": "code",
   "execution_count": null,
   "metadata": {},
   "outputs": [],
   "source": [
    "import numpy as np\n",
    "from pipeVibSim.pipe import Pipe\n",
    "from pipeVibSim.materials import get_material_properties\n",
    "from pipeVibSim.simulation import VibrationAnalysis\n",
    "import pipeVibSim.postprocessing as post"
   ]
  },
  {
   "cell_type": "markdown",
   "metadata": {},
   "source": [
    "## 1. Define Pipe Geometry"
   ]
  },
  {
   "cell_type": "code",
   "execution_count": null,
   "metadata": {},
   "outputs": [],
   "source": [
    "points = np.array([\n",
    "    [0, 0, 0],    # origin\n",
    "    [1, 0, 0],    # 1st virtual point\n",
    "    [1, 0, 1],    # 2nd virtual point\n",
    "    [1, 1, 1]     # last point\n",
    "], dtype=float) * 0.1\n",
    "\n",
    "pipe = Pipe(points, radius=0.03, step=0.01)"
   ]
  },
  {
   "cell_type": "markdown",
   "metadata": {},
   "source": [
    "## 2. Define Material Properties"
   ]
  },
  {
   "cell_type": "code",
   "execution_count": null,
   "metadata": {},
   "outputs": [],
   "source": [
    "material_properties = get_material_properties(\n",
    "    E=110.0e9,      # Young's modulus (Pa)\n",
    "    rho=8960.0,     # Density (kg/m^3)\n",
    "    nu=0.34,        # Poisson's ratio\n",
    "    D_out=0.01,     # Outer diameter (m)\n",
    "    D_in=0.008,     # Inner diameter (m)\n",
    "    n_elements=pipe.node_positions.shape[0] - 1\n",
    ")"
   ]
  },
  {
   "cell_type": "markdown",
   "metadata": {},
   "source": [
    "## 3. Perform Vibration Analysis"
   ]
  },
  {
   "cell_type": "code",
   "execution_count": null,
   "metadata": {},
   "outputs": [],
   "source": [
    "analysis = VibrationAnalysis(pipe, material_properties)"
   ]
  },
  {
   "cell_type": "markdown",
   "metadata": {},
   "source": [
    "### Eigensolution"
   ]
  },
  {
   "cell_type": "code",
   "execution_count": null,
   "metadata": {},
   "outputs": [],
   "source": [
    "shapes = analysis.run_eigensolution(maximum_frequency=4000)\n",
    "print(shapes)"
   ]
  },
  {
   "cell_type": "markdown",
   "metadata": {},
   "source": [
    "### Plot Mode Shapes"
   ]
  },
  {
   "cell_type": "code",
   "execution_count": null,
   "metadata": {},
   "outputs": [],
   "source": [
    "post.plot_mode_shapes(analysis.geometry, shapes)"
   ]
  },
  {
   "cell_type": "markdown",
   "metadata": {},
   "source": [
    "### Frequency Response Function (FRF)"
   ]
  },
  {
   "cell_type": "code",
   "execution_count": null,
   "metadata": {},
   "outputs": [],
   "source": [
    "frequencies = np.linspace(0., 500, 1000)\n",
    "frf = analysis.run_frf(frequencies, load_dof_indices=-4, response_dof_indices=-4)"
   ]
  },
  {
   "cell_type": "markdown",
   "metadata": {},
   "source": [
    "### Plot FRF"
   ]
  },
  {
   "cell_type": "code",
   "execution_count": null,
   "metadata": {},
   "outputs": [],
   "source": [
    "post.plot_frf(frf)"
   ]
  }
 ],
 "metadata": {
  "kernelspec": {
   "display_name": "Python 3",
   "language": "python",
   "name": "python3"
  },
  "language_info": {
   "codemirror_mode": {
    "name": "ipython",
    "version": 3
   },
   "file_extension": ".py",
   "mimetype": "text/x-python",
   "name": "python",
   "nbconvert_exporter": "python",
   "pygments_lexer": "ipython3",
   "version": "3.11.9"
  }
 },
 "nbformat": 4,
 "nbformat_minor": 2
}