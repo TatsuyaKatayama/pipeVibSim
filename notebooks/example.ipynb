{
    "cells": [
        {
            "cell_type": "markdown",
            "metadata": {},
            "source": [
                "# pipeVibSim Example"
            ]
        },
        {
            "cell_type": "markdown",
            "metadata": {},
            "source": [
                "This notebook demonstrates how to use the `pipeVibSim` library to perform a vibration analysis of a 3D pipe."
            ]
        },
        {
            "cell_type": "code",
            "execution_count": 1,
            "metadata": {},
            "outputs": [],
            "source": [
                "import numpy as np\n",
                "from pipeVibSim.pipe import Pipe\n",
                "from pipeVibSim.materials import get_material_properties\n",
                "from pipeVibSim.simulation import VibrationAnalysis\n",
                "import pipeVibSim.postprocessing as post"
            ]
        },
        {
            "cell_type": "markdown",
            "metadata": {},
            "source": [
                "## 1. Define Pipe Geometry"
            ]
        },
        {
            "cell_type": "code",
            "execution_count": 2,
            "metadata": {},
            "outputs": [],
            "source": [
                "points = np.array([\n",
                "    [0, 0, 0],    # origin\n",
                "    [1, 0, 0],    # 1st virtual point\n",
                "    [1, 0, 1],    # 2nd virtual point\n",
                "    [1, 1, 1]     # last point\n",
                "], dtype=float) * 0.1\n",
                "\n",
                "pipe = Pipe(points, radius=0.03, step=0.01)"
            ]
        },
        {
            "cell_type": "markdown",
            "metadata": {},
            "source": [
                "## 2. Define Material Properties"
            ]
        },
        {
            "cell_type": "code",
            "execution_count": 3,
            "metadata": {},
            "outputs": [],
            "source": [
                "material_properties = get_material_properties(\n",
                "    E=110.0e9,      # Young's modulus (Pa)\n",
                "    rho=8960.0,     # Density (kg/m^3)\n",
                "    nu=0.34,        # Poisson's ratio\n",
                "    D_out=0.01,     # Outer diameter (m)\n",
                "    D_in=0.008,     # Inner diameter (m)\n",
                "    n_elements=pipe.node_positions.shape[0] - 1\n",
                ")"
            ]
        },
        {
            "cell_type": "markdown",
            "metadata": {},
            "source": [
                "## 3. Perform Vibration Analysis"
            ]
        },
        {
            "cell_type": "code",
            "execution_count": 4,
            "metadata": {},
            "outputs": [],
            "source": [
                "analysis = VibrationAnalysis(pipe, material_properties)"
            ]
        },
        {
            "cell_type": "markdown",
            "metadata": {},
            "source": [
                "## 4. Apply Constraints"
            ]
        },
        {
            "cell_type": "code",
            "execution_count": null,
            "metadata": {},
            "outputs": [
                {
                    "ename": "AttributeError",
                    "evalue": "'VibrationAnalysis' object has no attribute 'substructure_by_coordinate'",
                    "output_type": "error",
                    "traceback": [
                        "\u001b[0;31m---------------------------------------------------------------------------\u001b[0m",
                        "\u001b[0;31mAttributeError\u001b[0m                            Traceback (most recent call last)",
                        "Cell \u001b[0;32mIn[5], line 3\u001b[0m\n\u001b[1;32m      1\u001b[0m \u001b[38;5;66;03m# Fix the first node (origin) in all 6 degrees of freedom (translations and rotations)\u001b[39;00m\n\u001b[1;32m      2\u001b[0m constraints \u001b[38;5;241m=\u001b[39m [([\u001b[38;5;241m0\u001b[39m, \u001b[38;5;241m0\u001b[39m, \u001b[38;5;241m0\u001b[39m], \u001b[38;5;28;01mNone\u001b[39;00m)]\n\u001b[0;32m----> 3\u001b[0m \u001b[43manalysis\u001b[49m\u001b[38;5;241;43m.\u001b[39;49m\u001b[43msubstructure_by_coordinate\u001b[49m(constraints)\n\u001b[1;32m      4\u001b[0m \u001b[38;5;28mprint\u001b[39m(\u001b[38;5;124m\"\u001b[39m\u001b[38;5;124mSystem constrained at the origin.\u001b[39m\u001b[38;5;124m\"\u001b[39m)\n",
                        "\u001b[0;31mAttributeError\u001b[0m: 'VibrationAnalysis' object has no attribute 'substructure_by_coordinate'"
                    ]
                }
            ],
            "source": [
                "# Fix the first node (origin) in all 6 degrees of freedom (translations and rotations)\n",
                "constraints = [([0, 0, 0], None)]\n",
                "analysis.substructure_by_coordinate(constraints)\n",
                "print(\"System constrained at the origin.\")"
            ]
        },
        {
            "cell_type": "markdown",
            "metadata": {},
            "source": [
                "### Eigensolution"
            ]
        },
        {
            "cell_type": "code",
            "execution_count": null,
            "metadata": {},
            "outputs": [],
            "source": [
                "shapes = analysis.run_eigensolution(maximum_frequency=4000)\n",
                "print(shapes)"
            ]
        },
        {
            "cell_type": "markdown",
            "metadata": {},
            "source": [
                "### Plot Mode Shapes"
            ]
        },
        {
            "cell_type": "code",
            "execution_count": null,
            "metadata": {},
            "outputs": [],
            "source": [
                "post.plot_mode_shapes(analysis.geometry, shapes)"
            ]
        },
        {
            "cell_type": "markdown",
            "metadata": {},
            "source": [
                "### Frequency Response Function (FRF)"
            ]
        },
        {
            "cell_type": "code",
            "execution_count": null,
            "metadata": {},
            "outputs": [],
            "source": [
                "frequencies = np.linspace(0., 500, 1000)\n",
                "frf = analysis.run_frf(frequencies, load_dof_indices=-4, response_dof_indices=-4)"
            ]
        },
        {
            "cell_type": "markdown",
            "metadata": {},
            "source": [
                "### Plot FRF"
            ]
        },
        {
            "cell_type": "code",
            "execution_count": null,
            "metadata": {},
            "outputs": [],
            "source": [
                "post.plot_frf(frf)"
            ]
        },
        {
            "cell_type": "markdown",
            "metadata": {},
            "source": [
                "## 5. Reset System and Re-run Analysis (without constraints)"
            ]
        },
        {
            "cell_type": "code",
            "execution_count": null,
            "metadata": {},
            "outputs": [],
            "source": [
                "analysis.reset_system()\n",
                "print(\"System reset to initial unconstrained state.\")"
            ]
        },
        {
            "cell_type": "markdown",
            "metadata": {},
            "source": [
                "### Eigensolution (unconstrained)"
            ]
        },
        {
            "cell_type": "code",
            "execution_count": null,
            "metadata": {},
            "outputs": [],
            "source": [
                "shapes_unconstrained = analysis.run_eigensolution(maximum_frequency=4000)\n",
                "print(shapes_unconstrained)"
            ]
        },
        {
            "cell_type": "markdown",
            "metadata": {},
            "source": [
                "### Plot Mode Shapes (unconstrained)"
            ]
        },
        {
            "cell_type": "code",
            "execution_count": null,
            "metadata": {},
            "outputs": [],
            "source": [
                "post.plot_mode_shapes(analysis.geometry, shapes_unconstrained)"
            ]
        },
        {
            "cell_type": "markdown",
            "metadata": {},
            "source": [
                "### Frequency Response Function (FRF) (unconstrained)"
            ]
        },
        {
            "cell_type": "code",
            "execution_count": null,
            "metadata": {},
            "outputs": [],
            "source": [
                "frf_unconstrained = analysis.run_frf(frequencies, load_dof_indices=-4, response_dof_indices=-4)\n",
                "print(frf_unconstrained)"
            ]
        },
        {
            "cell_type": "markdown",
            "metadata": {},
            "source": [
                "### Plot FRF (unconstrained)"
            ]
        },
        {
            "cell_type": "code",
            "execution_count": null,
            "metadata": {},
            "outputs": [],
            "source": [
                "post.plot_frf(frf_unconstrained)"
            ]
        }
    ],
    "metadata": {
        "kernelspec": {
            "display_name": "main-py3.11",
            "language": "python",
            "name": "python3"
        },
        "language_info": {
            "codemirror_mode": {
                "name": "ipython",
                "version": 3
            },
            "file_extension": ".py",
            "mimetype": "text/x-python",
            "name": "python",
            "nbconvert_exporter": "python",
            "pygments_lexer": "ipython3",
            "version": "3.11.9"
        }
    },
    "nbformat": 4,
    "nbformat_minor": 2
}
