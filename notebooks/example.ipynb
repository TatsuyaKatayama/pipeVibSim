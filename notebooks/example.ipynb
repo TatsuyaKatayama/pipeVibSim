{
 "cells": [
  {
   "cell_type": "markdown",
   "metadata": {},
   "source": [
    "# pipeVibSim Example"
   ]
  },
  {
   "cell_type": "markdown",
   "metadata": {},
   "source": [
    "This notebook demonstrates how to use the `pipeVibSim` library to perform a vibration analysis of a 3D pipe."
   ]
  },
  {
   "cell_type": "code",
   "execution_count": 1,
   "metadata": {
    "execution": {
     "iopub.execute_input": "2025-09-15T05:55:26.167389Z",
     "iopub.status.busy": "2025-09-15T05:55:26.167099Z",
     "iopub.status.idle": "2025-09-15T05:55:28.273630Z",
     "shell.execute_reply": "2025-09-15T05:55:28.272982Z"
    }
   },
   "outputs": [],
   "source": [
    "import numpy as np\n",
    "from pipeVibSim.pipe_path import PipePath\n",
    "from pipeVibSim.pipe import Pipe\n",
    "from pipeVibSim.materials import get_material_properties\n",
    "from pipeVibSim.simulation import VibrationAnalysis\n",
    "import pipeVibSim.postprocessing as post"
   ]
  },
  {
   "cell_type": "markdown",
   "metadata": {},
   "source": [
    "## 1. Define and Combine Pipe Segments"
   ]
  },
  {
   "cell_type": "code",
   "execution_count": 2,
   "metadata": {
    "execution": {
     "iopub.execute_input": "2025-09-15T05:55:28.276841Z",
     "iopub.status.busy": "2025-09-15T05:55:28.276030Z",
     "iopub.status.idle": "2025-09-15T05:55:28.284017Z",
     "shell.execute_reply": "2025-09-15T05:55:28.282861Z"
    }
   },
   "outputs": [
    {
     "name": "stdout",
     "output_type": "stream",
     "text": [
      "Pipe system created by combining two segments.\n",
      "Total nodes: 21\n",
      "Total elements: 20\n"
     ]
    }
   ],
   "source": [
    "# Define the first pipe segment (e.g., steel)\n",
    "points1 = np.array([[0, 0, 0], [0.2, 0, 0]], dtype=float)\n",
    "pipe_path1 = PipePath(points1, radius=0.03, step=0.02)\n",
    "n_elements1 = pipe_path1.node_positions.shape[0] - 1\n",
    "material_properties1 = get_material_properties(\n",
    "    E=200e9, rho=7850, nu=0.3, D_out=0.02, D_in=0.015, n_elements=n_elements1\n",
    ")\n",
    "\n",
    "# Define the second pipe segment (e.g., aluminum), which will be connected to the first\n",
    "points2 = np.array([[0, 0, 0], [0, 0.2, 0]], dtype=float) # Defined from origin, will be attached to the end of segment 1\n",
    "pipe_path2 = PipePath(points2, radius=0.03, step=0.02)\n",
    "n_elements2 = pipe_path2.node_positions.shape[0] - 1\n",
    "material_properties2 = get_material_properties(\n",
    "    E=70e9, rho=2700, nu=0.35, D_out=0.02, D_in=0.015, n_elements=n_elements2\n",
    ")\n",
    "\n",
    "# Create the main pipe system from the first segment\n",
    "pipe = Pipe(pipe_path1, material_properties1)\n",
    "\n",
    "# Add the second segment\n",
    "pipe.add_pipe_segment(pipe_path2, material_properties2)\n",
    "\n",
    "print(\"Pipe system created by combining two segments.\")\n",
    "print(f\"Total nodes: {pipe.node_positions.shape[0]}\")\n",
    "print(f\"Total elements: {pipe.node_connectivity.shape[0]}\")"
   ]
  },
  {
   "cell_type": "markdown",
   "metadata": {},
   "source": [
    "## 2. Perform Vibration Analysis"
   ]
  },
  {
   "cell_type": "code",
   "execution_count": 3,
   "metadata": {
    "execution": {
     "iopub.execute_input": "2025-09-15T05:55:28.303121Z",
     "iopub.status.busy": "2025-09-15T05:55:28.302960Z",
     "iopub.status.idle": "2025-09-15T05:55:28.311018Z",
     "shell.execute_reply": "2025-09-15T05:55:28.309833Z"
    }
   },
   "outputs": [],
   "source": [
    "analysis = VibrationAnalysis(pipe)"
   ]
  },
  {
   "cell_type": "markdown",
   "metadata": {},
   "source": [
    "## 3. Apply Constraints"
   ]
  },
  {
   "cell_type": "code",
   "execution_count": 4,
   "metadata": {
    "execution": {
     "iopub.execute_input": "2025-09-15T05:55:28.313273Z",
     "iopub.status.busy": "2025-09-15T05:55:28.312599Z",
     "iopub.status.idle": "2025-09-15T05:55:28.345688Z",
     "shell.execute_reply": "2025-09-15T05:55:28.345104Z"
    }
   },
   "outputs": [
    {
     "name": "stdout",
     "output_type": "stream",
     "text": [
      "System constrained at the origin.\n"
     ]
    }
   ],
   "source": [
    "# Fix the first node (origin) in all 6 degrees of freedom (translations and rotations)\n",
    "constraints = [(pipe.node_positions[0], None)]\n",
    "analysis.substructure_by_coordinate(constraints)\n",
    "print(\"System constrained at the origin.\")"
   ]
  },
  {
   "cell_type": "markdown",
   "metadata": {},
   "source": [
    "### Eigensolution"
   ]
  },
  {
   "cell_type": "code",
   "execution_count": 5,
   "metadata": {
    "execution": {
     "iopub.execute_input": "2025-09-15T05:55:28.353749Z",
     "iopub.status.busy": "2025-09-15T05:55:28.353637Z",
     "iopub.status.idle": "2025-09-15T05:55:28.404022Z",
     "shell.execute_reply": "2025-09-15T05:55:28.403395Z"
    }
   },
   "outputs": [
    {
     "name": "stdout",
     "output_type": "stream",
     "text": [
      "   Index,  Frequency,    Damping,     # DoFs\n",
      "    (0,),   212.9835,    0.0000%,        126\n",
      "    (1,),   222.5188,    0.0000%,        126\n",
      "    (2,),   456.4435,    0.0000%,        126\n",
      "    (3,),   473.0954,    0.0000%,        126\n",
      "    (4,),  2050.7039,    0.0000%,        126\n",
      "    (5,),  2071.8134,    0.0000%,        126\n",
      "    (6,),  2850.2103,    0.0000%,        126\n",
      "    (7,),  2891.3397,    0.0000%,        126\n",
      "\n"
     ]
    }
   ],
   "source": [
    "shapes = analysis.run_eigensolution(maximum_frequency=4000)\n",
    "print(shapes)"
   ]
  },
  {
   "cell_type": "markdown",
   "metadata": {},
   "source": [
    "### Plot Mode Shapes"
   ]
  },
  {
   "cell_type": "code",
   "execution_count": 6,
   "metadata": {
    "execution": {
     "iopub.execute_input": "2025-09-15T05:55:28.409603Z",
     "iopub.status.busy": "2025-09-15T05:55:28.409454Z",
     "iopub.status.idle": "2025-09-15T05:55:29.329189Z",
     "shell.execute_reply": "2025-09-15T05:55:29.328387Z"
    }
   },
   "outputs": [
    {
     "name": "stderr",
     "output_type": "stream",
     "text": [
      "QStandardPaths: wrong permissions on runtime directory /run/user/1002/, 0755 instead of 0700\n"
     ]
    }
   ],
   "source": [
    "post.plot_mode_shapes(analysis.geometry, shapes)"
   ]
  },
  {
   "cell_type": "markdown",
   "metadata": {},
   "source": [
    "### Frequency Response Function (FRF)"
   ]
  },
  {
   "cell_type": "code",
   "execution_count": 7,
   "metadata": {
    "execution": {
     "iopub.execute_input": "2025-09-15T05:55:29.331980Z",
     "iopub.status.busy": "2025-09-15T05:55:29.331570Z",
     "iopub.status.idle": "2025-09-15T05:55:30.986381Z",
     "shell.execute_reply": "2025-09-15T05:55:30.985020Z"
    }
   },
   "outputs": [],
   "source": [
    "frequencies = np.linspace(0., 500, 1000)\n",
    "frf = analysis.run_frf_direct(frequencies, load_dof_indices=[-4], response_dof_indices=[-4])"
   ]
  },
  {
   "cell_type": "markdown",
   "metadata": {},
   "source": [
    "### Plot FRF"
   ]
  },
  {
   "cell_type": "code",
   "execution_count": 8,
   "metadata": {
    "execution": {
     "iopub.execute_input": "2025-09-15T05:55:31.077839Z",
     "iopub.status.busy": "2025-09-15T05:55:31.077694Z",
     "iopub.status.idle": "2025-09-15T05:55:31.269816Z",
     "shell.execute_reply": "2025-09-15T05:55:31.269256Z"
    }
   },
   "outputs": [
    {
     "data": {
      "image/png": "[encoded data removed]",
      "text/plain": [
       "<Figure size 600x400 with 2 Axes>"
      ]
     },
     "metadata": {},
     "output_type": "display_data"
    }
   ],
   "source": [
    "fig, axes = post.plot_frf(frf)\n",
    "axes[0].set_title('My Custom FRF Plot')\n",
    "axes[0].grid(True)\n",
    "fig.set_size_inches(6, 4)\n",
    "fig.tight_layout()"
   ]
  }
 ],
 "metadata": {
  "kernelspec": {
   "display_name": "main-py3.11",
   "language": "python",
   "name": "python3"
  },
  "language_info": {
   "codemirror_mode": {
    "name": "ipython",
    "version": 3
   },
   "file_extension": ".py",
   "mimetype": "text/x-python",
   "name": "python",
   "nbconvert_exporter": "python",
   "pygments_lexer": "ipython3",
   "version": "3.11.9"
  }
 },
 "nbformat": 4,
 "nbformat_minor": 2
}
